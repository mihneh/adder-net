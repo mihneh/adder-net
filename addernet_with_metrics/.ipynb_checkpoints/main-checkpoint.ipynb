{
 "cells": [
  {
   "cell_type": "code",
   "execution_count": 1,
   "id": "88720544-dbcf-45b2-a947-4ad3d6737bbf",
   "metadata": {},
   "outputs": [
    {
     "name": "stdout",
     "output_type": "stream",
     "text": [
      "Defaulting to user installation because normal site-packages is not writeable\n",
      "Requirement already satisfied: mlflow in /home/ubuntu/.local/lib/python3.10/site-packages (from -r requirements.txt (line 1)) (2.17.2)\n",
      "Requirement already satisfied: numpy in /home/ubuntu/.local/lib/python3.10/site-packages (from -r requirements.txt (line 2)) (2.1.3)\n",
      "Requirement already satisfied: torch in /home/ubuntu/.local/lib/python3.10/site-packages (from -r requirements.txt (line 3)) (2.5.0)\n",
      "Requirement already satisfied: pystoi in /home/ubuntu/.local/lib/python3.10/site-packages (from -r requirements.txt (line 4)) (0.4.1)\n",
      "Requirement already satisfied: pyyaml in /usr/lib/python3/dist-packages (from -r requirements.txt (line 5)) (5.4.1)\n",
      "Requirement already satisfied: mlflow-skinny==2.17.2 in /home/ubuntu/.local/lib/python3.10/site-packages (from mlflow->-r requirements.txt (line 1)) (2.17.2)\n",
      "Requirement already satisfied: Flask<4 in /home/ubuntu/.local/lib/python3.10/site-packages (from mlflow->-r requirements.txt (line 1)) (3.1.0)\n",
      "Requirement already satisfied: alembic!=1.10.0,<2 in /home/ubuntu/.local/lib/python3.10/site-packages (from mlflow->-r requirements.txt (line 1)) (1.14.0)\n",
      "Requirement already satisfied: docker<8,>=4.0.0 in /home/ubuntu/.local/lib/python3.10/site-packages (from mlflow->-r requirements.txt (line 1)) (7.1.0)\n",
      "Requirement already satisfied: graphene<4 in /home/ubuntu/.local/lib/python3.10/site-packages (from mlflow->-r requirements.txt (line 1)) (3.4.3)\n",
      "Requirement already satisfied: markdown<4,>=3.3 in /home/ubuntu/.local/lib/python3.10/site-packages (from mlflow->-r requirements.txt (line 1)) (3.7)\n",
      "Requirement already satisfied: matplotlib<4 in /usr/local/lib/python3.10/dist-packages (from mlflow->-r requirements.txt (line 1)) (3.9.2)\n",
      "Requirement already satisfied: pandas<3 in /home/ubuntu/.local/lib/python3.10/site-packages (from mlflow->-r requirements.txt (line 1)) (2.2.3)\n",
      "Requirement already satisfied: pyarrow<18,>=4.0.0 in /home/ubuntu/.local/lib/python3.10/site-packages (from mlflow->-r requirements.txt (line 1)) (17.0.0)\n",
      "Requirement already satisfied: scikit-learn<2 in /usr/local/lib/python3.10/dist-packages (from mlflow->-r requirements.txt (line 1)) (1.5.1)\n",
      "Requirement already satisfied: scipy<2 in /home/ubuntu/.local/lib/python3.10/site-packages (from mlflow->-r requirements.txt (line 1)) (1.14.1)\n",
      "Requirement already satisfied: sqlalchemy<3,>=1.4.0 in /home/ubuntu/.local/lib/python3.10/site-packages (from mlflow->-r requirements.txt (line 1)) (2.0.36)\n",
      "Requirement already satisfied: Jinja2<4,>=2.11 in /home/ubuntu/.local/lib/python3.10/site-packages (from mlflow->-r requirements.txt (line 1)) (3.1.4)\n",
      "Requirement already satisfied: gunicorn<24 in /home/ubuntu/.local/lib/python3.10/site-packages (from mlflow->-r requirements.txt (line 1)) (23.0.0)\n",
      "Requirement already satisfied: cachetools<6,>=5.0.0 in /home/ubuntu/.local/lib/python3.10/site-packages (from mlflow-skinny==2.17.2->mlflow->-r requirements.txt (line 1)) (5.5.0)\n",
      "Requirement already satisfied: click<9,>=7.0 in /home/ubuntu/.local/lib/python3.10/site-packages (from mlflow-skinny==2.17.2->mlflow->-r requirements.txt (line 1)) (8.1.7)\n",
      "Requirement already satisfied: cloudpickle<4 in /home/ubuntu/.local/lib/python3.10/site-packages (from mlflow-skinny==2.17.2->mlflow->-r requirements.txt (line 1)) (3.1.0)\n",
      "Requirement already satisfied: databricks-sdk<1,>=0.20.0 in /home/ubuntu/.local/lib/python3.10/site-packages (from mlflow-skinny==2.17.2->mlflow->-r requirements.txt (line 1)) (0.37.0)\n",
      "Requirement already satisfied: gitpython<4,>=3.1.9 in /home/ubuntu/.local/lib/python3.10/site-packages (from mlflow-skinny==2.17.2->mlflow->-r requirements.txt (line 1)) (3.1.43)\n",
      "Requirement already satisfied: importlib-metadata!=4.7.0,<9,>=3.7.0 in /home/ubuntu/.local/lib/python3.10/site-packages (from mlflow-skinny==2.17.2->mlflow->-r requirements.txt (line 1)) (8.5.0)\n",
      "Requirement already satisfied: opentelemetry-api<3,>=1.9.0 in /home/ubuntu/.local/lib/python3.10/site-packages (from mlflow-skinny==2.17.2->mlflow->-r requirements.txt (line 1)) (1.28.1)\n",
      "Requirement already satisfied: opentelemetry-sdk<3,>=1.9.0 in /home/ubuntu/.local/lib/python3.10/site-packages (from mlflow-skinny==2.17.2->mlflow->-r requirements.txt (line 1)) (1.28.1)\n",
      "Requirement already satisfied: packaging<25 in /home/ubuntu/.local/lib/python3.10/site-packages (from mlflow-skinny==2.17.2->mlflow->-r requirements.txt (line 1)) (24.1)\n",
      "Requirement already satisfied: protobuf<6,>=3.12.0 in /home/ubuntu/.local/lib/python3.10/site-packages (from mlflow-skinny==2.17.2->mlflow->-r requirements.txt (line 1)) (5.28.3)\n",
      "Requirement already satisfied: requests<3,>=2.17.3 in /home/ubuntu/.local/lib/python3.10/site-packages (from mlflow-skinny==2.17.2->mlflow->-r requirements.txt (line 1)) (2.32.3)\n",
      "Requirement already satisfied: sqlparse<1,>=0.4.0 in /home/ubuntu/.local/lib/python3.10/site-packages (from mlflow-skinny==2.17.2->mlflow->-r requirements.txt (line 1)) (0.5.2)\n",
      "Requirement already satisfied: filelock in /home/ubuntu/.local/lib/python3.10/site-packages (from torch->-r requirements.txt (line 3)) (3.16.1)\n",
      "Requirement already satisfied: typing-extensions>=4.8.0 in /home/ubuntu/.local/lib/python3.10/site-packages (from torch->-r requirements.txt (line 3)) (4.12.2)\n",
      "Requirement already satisfied: networkx in /home/ubuntu/.local/lib/python3.10/site-packages (from torch->-r requirements.txt (line 3)) (3.3)\n",
      "Requirement already satisfied: fsspec in /home/ubuntu/.local/lib/python3.10/site-packages (from torch->-r requirements.txt (line 3)) (2024.9.0)\n",
      "Requirement already satisfied: nvidia-cuda-nvrtc-cu12==12.4.127 in /home/ubuntu/.local/lib/python3.10/site-packages (from torch->-r requirements.txt (line 3)) (12.4.127)\n",
      "Requirement already satisfied: nvidia-cuda-runtime-cu12==12.4.127 in /home/ubuntu/.local/lib/python3.10/site-packages (from torch->-r requirements.txt (line 3)) (12.4.127)\n",
      "Requirement already satisfied: nvidia-cuda-cupti-cu12==12.4.127 in /home/ubuntu/.local/lib/python3.10/site-packages (from torch->-r requirements.txt (line 3)) (12.4.127)\n",
      "Requirement already satisfied: nvidia-cudnn-cu12==9.1.0.70 in /home/ubuntu/.local/lib/python3.10/site-packages (from torch->-r requirements.txt (line 3)) (9.1.0.70)\n",
      "Requirement already satisfied: nvidia-cublas-cu12==12.4.5.8 in /home/ubuntu/.local/lib/python3.10/site-packages (from torch->-r requirements.txt (line 3)) (12.4.5.8)\n",
      "Requirement already satisfied: nvidia-cufft-cu12==11.2.1.3 in /home/ubuntu/.local/lib/python3.10/site-packages (from torch->-r requirements.txt (line 3)) (11.2.1.3)\n",
      "Requirement already satisfied: nvidia-curand-cu12==10.3.5.147 in /home/ubuntu/.local/lib/python3.10/site-packages (from torch->-r requirements.txt (line 3)) (10.3.5.147)\n",
      "Requirement already satisfied: nvidia-cusolver-cu12==11.6.1.9 in /home/ubuntu/.local/lib/python3.10/site-packages (from torch->-r requirements.txt (line 3)) (11.6.1.9)\n",
      "Requirement already satisfied: nvidia-cusparse-cu12==12.3.1.170 in /home/ubuntu/.local/lib/python3.10/site-packages (from torch->-r requirements.txt (line 3)) (12.3.1.170)\n",
      "Requirement already satisfied: nvidia-nccl-cu12==2.21.5 in /home/ubuntu/.local/lib/python3.10/site-packages (from torch->-r requirements.txt (line 3)) (2.21.5)\n",
      "Requirement already satisfied: nvidia-nvtx-cu12==12.4.127 in /home/ubuntu/.local/lib/python3.10/site-packages (from torch->-r requirements.txt (line 3)) (12.4.127)\n",
      "Requirement already satisfied: nvidia-nvjitlink-cu12==12.4.127 in /home/ubuntu/.local/lib/python3.10/site-packages (from torch->-r requirements.txt (line 3)) (12.4.127)\n",
      "Requirement already satisfied: triton==3.1.0 in /home/ubuntu/.local/lib/python3.10/site-packages (from torch->-r requirements.txt (line 3)) (3.1.0)\n",
      "Requirement already satisfied: sympy==1.13.1 in /home/ubuntu/.local/lib/python3.10/site-packages (from torch->-r requirements.txt (line 3)) (1.13.1)\n",
      "Requirement already satisfied: mpmath<1.4,>=1.1.0 in /home/ubuntu/.local/lib/python3.10/site-packages (from sympy==1.13.1->torch->-r requirements.txt (line 3)) (1.3.0)\n",
      "Requirement already satisfied: Mako in /home/ubuntu/.local/lib/python3.10/site-packages (from alembic!=1.10.0,<2->mlflow->-r requirements.txt (line 1)) (1.3.6)\n",
      "Requirement already satisfied: urllib3>=1.26.0 in /home/ubuntu/.local/lib/python3.10/site-packages (from docker<8,>=4.0.0->mlflow->-r requirements.txt (line 1)) (2.2.3)\n",
      "Requirement already satisfied: Werkzeug>=3.1 in /home/ubuntu/.local/lib/python3.10/site-packages (from Flask<4->mlflow->-r requirements.txt (line 1)) (3.1.3)\n",
      "Requirement already satisfied: itsdangerous>=2.2 in /home/ubuntu/.local/lib/python3.10/site-packages (from Flask<4->mlflow->-r requirements.txt (line 1)) (2.2.0)\n",
      "Requirement already satisfied: blinker>=1.9 in /home/ubuntu/.local/lib/python3.10/site-packages (from Flask<4->mlflow->-r requirements.txt (line 1)) (1.9.0)\n",
      "Requirement already satisfied: graphql-core<3.3,>=3.1 in /home/ubuntu/.local/lib/python3.10/site-packages (from graphene<4->mlflow->-r requirements.txt (line 1)) (3.2.5)\n",
      "Requirement already satisfied: graphql-relay<3.3,>=3.1 in /home/ubuntu/.local/lib/python3.10/site-packages (from graphene<4->mlflow->-r requirements.txt (line 1)) (3.2.0)\n",
      "Requirement already satisfied: python-dateutil<3,>=2.7.0 in /home/ubuntu/.local/lib/python3.10/site-packages (from graphene<4->mlflow->-r requirements.txt (line 1)) (2.9.0.post0)\n",
      "Requirement already satisfied: MarkupSafe>=2.0 in /home/ubuntu/.local/lib/python3.10/site-packages (from Jinja2<4,>=2.11->mlflow->-r requirements.txt (line 1)) (2.1.5)\n",
      "Requirement already satisfied: contourpy>=1.0.1 in /usr/local/lib/python3.10/dist-packages (from matplotlib<4->mlflow->-r requirements.txt (line 1)) (1.3.0)\n",
      "Requirement already satisfied: cycler>=0.10 in /home/ubuntu/.local/lib/python3.10/site-packages (from matplotlib<4->mlflow->-r requirements.txt (line 1)) (0.12.1)\n",
      "Requirement already satisfied: fonttools>=4.22.0 in /home/ubuntu/.local/lib/python3.10/site-packages (from matplotlib<4->mlflow->-r requirements.txt (line 1)) (4.53.1)\n",
      "Requirement already satisfied: kiwisolver>=1.3.1 in /home/ubuntu/.local/lib/python3.10/site-packages (from matplotlib<4->mlflow->-r requirements.txt (line 1)) (1.4.7)\n",
      "Requirement already satisfied: pillow>=8 in /home/ubuntu/.local/lib/python3.10/site-packages (from matplotlib<4->mlflow->-r requirements.txt (line 1)) (10.4.0)\n",
      "Requirement already satisfied: pyparsing>=2.3.1 in /home/ubuntu/.local/lib/python3.10/site-packages (from matplotlib<4->mlflow->-r requirements.txt (line 1)) (3.1.4)\n",
      "Requirement already satisfied: pytz>=2020.1 in /home/ubuntu/.local/lib/python3.10/site-packages (from pandas<3->mlflow->-r requirements.txt (line 1)) (2024.2)\n",
      "Requirement already satisfied: tzdata>=2022.7 in /home/ubuntu/.local/lib/python3.10/site-packages (from pandas<3->mlflow->-r requirements.txt (line 1)) (2024.2)\n",
      "Requirement already satisfied: joblib>=1.2.0 in /home/ubuntu/.local/lib/python3.10/site-packages (from scikit-learn<2->mlflow->-r requirements.txt (line 1)) (1.4.2)\n",
      "Requirement already satisfied: threadpoolctl>=3.1.0 in /home/ubuntu/.local/lib/python3.10/site-packages (from scikit-learn<2->mlflow->-r requirements.txt (line 1)) (3.5.0)\n",
      "Requirement already satisfied: greenlet!=0.4.17 in /home/ubuntu/.local/lib/python3.10/site-packages (from sqlalchemy<3,>=1.4.0->mlflow->-r requirements.txt (line 1)) (3.1.1)\n",
      "Requirement already satisfied: google-auth~=2.0 in /home/ubuntu/.local/lib/python3.10/site-packages (from databricks-sdk<1,>=0.20.0->mlflow-skinny==2.17.2->mlflow->-r requirements.txt (line 1)) (2.36.0)\n",
      "Requirement already satisfied: gitdb<5,>=4.0.1 in /home/ubuntu/.local/lib/python3.10/site-packages (from gitpython<4,>=3.1.9->mlflow-skinny==2.17.2->mlflow->-r requirements.txt (line 1)) (4.0.11)\n",
      "Requirement already satisfied: zipp>=3.20 in /home/ubuntu/.local/lib/python3.10/site-packages (from importlib-metadata!=4.7.0,<9,>=3.7.0->mlflow-skinny==2.17.2->mlflow->-r requirements.txt (line 1)) (3.21.0)\n",
      "Requirement already satisfied: deprecated>=1.2.6 in /home/ubuntu/.local/lib/python3.10/site-packages (from opentelemetry-api<3,>=1.9.0->mlflow-skinny==2.17.2->mlflow->-r requirements.txt (line 1)) (1.2.14)\n",
      "Requirement already satisfied: opentelemetry-semantic-conventions==0.49b1 in /home/ubuntu/.local/lib/python3.10/site-packages (from opentelemetry-sdk<3,>=1.9.0->mlflow-skinny==2.17.2->mlflow->-r requirements.txt (line 1)) (0.49b1)\n",
      "Requirement already satisfied: six>=1.5 in /usr/lib/python3/dist-packages (from python-dateutil<3,>=2.7.0->graphene<4->mlflow->-r requirements.txt (line 1)) (1.16.0)\n",
      "Requirement already satisfied: charset-normalizer<4,>=2 in /home/ubuntu/.local/lib/python3.10/site-packages (from requests<3,>=2.17.3->mlflow-skinny==2.17.2->mlflow->-r requirements.txt (line 1)) (3.3.2)\n",
      "Requirement already satisfied: idna<4,>=2.5 in /home/ubuntu/.local/lib/python3.10/site-packages (from requests<3,>=2.17.3->mlflow-skinny==2.17.2->mlflow->-r requirements.txt (line 1)) (3.10)\n",
      "Requirement already satisfied: certifi>=2017.4.17 in /home/ubuntu/.local/lib/python3.10/site-packages (from requests<3,>=2.17.3->mlflow-skinny==2.17.2->mlflow->-r requirements.txt (line 1)) (2024.8.30)\n",
      "Requirement already satisfied: wrapt<2,>=1.10 in /home/ubuntu/.local/lib/python3.10/site-packages (from deprecated>=1.2.6->opentelemetry-api<3,>=1.9.0->mlflow-skinny==2.17.2->mlflow->-r requirements.txt (line 1)) (1.16.0)\n",
      "Requirement already satisfied: smmap<6,>=3.0.1 in /home/ubuntu/.local/lib/python3.10/site-packages (from gitdb<5,>=4.0.1->gitpython<4,>=3.1.9->mlflow-skinny==2.17.2->mlflow->-r requirements.txt (line 1)) (5.0.1)\n",
      "Requirement already satisfied: pyasn1-modules>=0.2.1 in /home/ubuntu/.local/lib/python3.10/site-packages (from google-auth~=2.0->databricks-sdk<1,>=0.20.0->mlflow-skinny==2.17.2->mlflow->-r requirements.txt (line 1)) (0.4.1)\n",
      "Requirement already satisfied: rsa<5,>=3.1.4 in /home/ubuntu/.local/lib/python3.10/site-packages (from google-auth~=2.0->databricks-sdk<1,>=0.20.0->mlflow-skinny==2.17.2->mlflow->-r requirements.txt (line 1)) (4.9)\n",
      "Requirement already satisfied: pyasn1<0.7.0,>=0.4.6 in /home/ubuntu/.local/lib/python3.10/site-packages (from pyasn1-modules>=0.2.1->google-auth~=2.0->databricks-sdk<1,>=0.20.0->mlflow-skinny==2.17.2->mlflow->-r requirements.txt (line 1)) (0.6.1)\n"
     ]
    }
   ],
   "source": [
    "!pip install -r requirements.txt"
   ]
  },
  {
   "cell_type": "code",
   "execution_count": 10,
   "id": "a49f73d1-a9a7-45d2-ae38-3bc5e8837a6b",
   "metadata": {},
   "outputs": [],
   "source": [
    "#Запуск обучения\n",
    "\n",
    "!python3 src/train.py"
   ]
  },
  {
   "cell_type": "code",
   "execution_count": null,
   "id": "5065c081-8b8e-46a7-aa2b-cf637d818ec5",
   "metadata": {},
   "outputs": [
    {
     "name": "stdout",
     "output_type": "stream",
     "text": [
      "[2024-11-15 07:41:45 +0300] [14304] [INFO] Starting gunicorn 23.0.0\n",
      "[2024-11-15 07:41:45 +0300] [14304] [INFO] Listening at: http://127.0.0.1:5000 (14304)\n",
      "[2024-11-15 07:41:45 +0300] [14304] [INFO] Using worker: sync\n",
      "[2024-11-15 07:41:45 +0300] [14306] [INFO] Booting worker with pid: 14306\n",
      "[2024-11-15 07:41:46 +0300] [14307] [INFO] Booting worker with pid: 14307\n",
      "[2024-11-15 07:41:46 +0300] [14308] [INFO] Booting worker with pid: 14308\n",
      "[2024-11-15 07:41:46 +0300] [14309] [INFO] Booting worker with pid: 14309\n"
     ]
    }
   ],
   "source": [
    "!mlflow ui"
   ]
  },
  {
   "cell_type": "code",
   "execution_count": null,
   "id": "d1ab62c3-3db5-4384-ba23-5661fcd37b41",
   "metadata": {},
   "outputs": [],
   "source": []
  }
 ],
 "metadata": {
  "kernelspec": {
   "display_name": "Python 3 (ipykernel)",
   "language": "python",
   "name": "python3"
  },
  "language_info": {
   "codemirror_mode": {
    "name": "ipython",
    "version": 3
   },
   "file_extension": ".py",
   "mimetype": "text/x-python",
   "name": "python",
   "nbconvert_exporter": "python",
   "pygments_lexer": "ipython3",
   "version": "3.10.12"
  }
 },
 "nbformat": 4,
 "nbformat_minor": 5
}
