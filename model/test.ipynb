{
 "cells": [
  {
   "cell_type": "code",
   "execution_count": 1,
   "metadata": {},
   "outputs": [
    {
     "data": {
      "text/plain": [
       "DenoisingModel(\n",
       "  (encoder): SpectrumEncoder(\n",
       "    (encoder_features): Sequential(\n",
       "      (layer_0): AdaptiveResBlock(\n",
       "        (block): MobileBlock(\n",
       "          (conv): Conv2d(3, 64, kernel_size=(3, 3), stride=(1, 1), padding=(1, 1))\n",
       "          (depth_wise): Conv2d(64, 64, kernel_size=(3, 3), stride=(1, 1), groups=64)\n",
       "          (point_wise): Conv2d(64, 64, kernel_size=(1, 1), stride=(1, 1), padding=(1, 1))\n",
       "          (nb): BatchNorm2d(64, eps=1e-05, momentum=0.1, affine=True, track_running_stats=True)\n",
       "          (dropout): Dropout2d(p=0.4, inplace=False)\n",
       "          (act): SiLU()\n",
       "        )\n",
       "        (scale): MaxPool2d(kernel_size=2, stride=2, padding=0, dilation=1, ceil_mode=False)\n",
       "        (adapt_res): Conv2d(3, 64, kernel_size=(1, 1), stride=(1, 1), bias=False)\n",
       "      )\n",
       "      (layer_1): AdaptiveResBlock(\n",
       "        (block): MobileBlock(\n",
       "          (conv): Conv2d(64, 96, kernel_size=(5, 5), stride=(1, 1), padding=(2, 2))\n",
       "          (depth_wise): Conv2d(96, 96, kernel_size=(5, 5), stride=(1, 1), groups=96)\n",
       "          (point_wise): Conv2d(96, 96, kernel_size=(1, 1), stride=(1, 1), padding=(2, 2))\n",
       "          (nb): BatchNorm2d(96, eps=1e-05, momentum=0.1, affine=True, track_running_stats=True)\n",
       "          (dropout): Dropout2d(p=0.4, inplace=False)\n",
       "          (act): SiLU()\n",
       "        )\n",
       "        (scale): MaxPool2d(kernel_size=2, stride=2, padding=0, dilation=1, ceil_mode=False)\n",
       "        (adapt_res): Conv2d(64, 96, kernel_size=(1, 1), stride=(1, 1), bias=False)\n",
       "      )\n",
       "      (layer_2): AdaptiveResBlock(\n",
       "        (block): MobileBlock(\n",
       "          (conv): Conv2d(96, 128, kernel_size=(7, 7), stride=(1, 1), padding=(3, 3))\n",
       "          (depth_wise): Conv2d(128, 128, kernel_size=(7, 7), stride=(1, 1), groups=128)\n",
       "          (point_wise): Conv2d(128, 128, kernel_size=(1, 1), stride=(1, 1), padding=(3, 3))\n",
       "          (nb): BatchNorm2d(128, eps=1e-05, momentum=0.1, affine=True, track_running_stats=True)\n",
       "          (dropout): Dropout2d(p=0.4, inplace=False)\n",
       "          (act): SiLU()\n",
       "        )\n",
       "        (scale): MaxPool2d(kernel_size=2, stride=2, padding=0, dilation=1, ceil_mode=False)\n",
       "        (adapt_res): Conv2d(96, 128, kernel_size=(1, 1), stride=(1, 1), bias=False)\n",
       "      )\n",
       "    )\n",
       "    (avg_pooler): AdaptiveAvgPool2d(output_size=(1, 1))\n",
       "  )\n",
       "  (decoder): SpectrumDecoder(\n",
       "    (decoder_features): Sequential(\n",
       "      (layer_0): AdaptiveResBlock(\n",
       "        (block): MobileBlock(\n",
       "          (conv_inverted): ConvTranspose2d(128, 96, kernel_size=(3, 3), stride=(1, 1), padding=(1, 1))\n",
       "          (depth_wise_inverted): ConvTranspose2d(96, 96, kernel_size=(3, 3), stride=(1, 1), groups=96)\n",
       "          (point_wise_inverte): ConvTranspose2d(96, 96, kernel_size=(1, 1), stride=(1, 1), padding=(1, 1))\n",
       "          (nb): BatchNorm2d(96, eps=1e-05, momentum=0.1, affine=True, track_running_stats=True)\n",
       "          (dropout): Dropout2d(p=0.4, inplace=False)\n",
       "          (act): SiLU()\n",
       "        )\n",
       "        (scale): ConvTranspose2d(96, 96, kernel_size=(3, 3), stride=(2, 2), bias=False)\n",
       "        (adapt_res): ConvTranspose2d(128, 96, kernel_size=(1, 1), stride=(1, 1), bias=False)\n",
       "      )\n",
       "      (layer_1): AdaptiveResBlock(\n",
       "        (block): MobileBlock(\n",
       "          (conv_inverted): ConvTranspose2d(96, 64, kernel_size=(5, 5), stride=(1, 1), padding=(2, 2))\n",
       "          (depth_wise_inverted): ConvTranspose2d(64, 64, kernel_size=(5, 5), stride=(1, 1), groups=64)\n",
       "          (point_wise_inverte): ConvTranspose2d(64, 64, kernel_size=(1, 1), stride=(1, 1), padding=(2, 2))\n",
       "          (nb): BatchNorm2d(64, eps=1e-05, momentum=0.1, affine=True, track_running_stats=True)\n",
       "          (dropout): Dropout2d(p=0.4, inplace=False)\n",
       "          (act): SiLU()\n",
       "        )\n",
       "        (scale): ConvTranspose2d(64, 64, kernel_size=(3, 3), stride=(2, 2), bias=False)\n",
       "        (adapt_res): ConvTranspose2d(96, 64, kernel_size=(1, 1), stride=(1, 1), bias=False)\n",
       "      )\n",
       "      (layer_2): AdaptiveResBlock(\n",
       "        (block): MobileBlock(\n",
       "          (conv_inverted): ConvTranspose2d(64, 3, kernel_size=(7, 7), stride=(1, 1), padding=(3, 3))\n",
       "          (depth_wise_inverted): ConvTranspose2d(3, 3, kernel_size=(7, 7), stride=(1, 1), groups=3)\n",
       "          (point_wise_inverte): ConvTranspose2d(3, 3, kernel_size=(1, 1), stride=(1, 1), padding=(3, 3))\n",
       "          (nb): BatchNorm2d(3, eps=1e-05, momentum=0.1, affine=True, track_running_stats=True)\n",
       "          (dropout): Dropout2d(p=0.4, inplace=False)\n",
       "          (act): SiLU()\n",
       "        )\n",
       "        (scale): ConvTranspose2d(3, 3, kernel_size=(3, 3), stride=(2, 2), bias=False)\n",
       "        (adapt_res): ConvTranspose2d(64, 3, kernel_size=(1, 1), stride=(1, 1), bias=False)\n",
       "      )\n",
       "    )\n",
       "  )\n",
       "  (gru): GRU(128, 512, num_layers=2, bias=False, batch_first=True, dropout=0.3)\n",
       "  (linear): Linear(in_features=512, out_features=128, bias=True)\n",
       ")"
      ]
     },
     "execution_count": 1,
     "metadata": {},
     "output_type": "execute_result"
    }
   ],
   "source": [
    "from denoising_model import *\n",
    "import torch\n",
    "\n",
    "batch_size, channels, time, frequency = 64, 3, 200, 240\n",
    "z = torch.rand(batch_size, channels, time, frequency).to('cuda')\n",
    "denoising_model = DenoisingModel().to('cuda')\n",
    "denoising_model"
   ]
  },
  {
   "cell_type": "code",
   "execution_count": 2,
   "metadata": {},
   "outputs": [
    {
     "data": {
      "text/plain": [
       "torch.Size([64, 3, 15, 15])"
      ]
     },
     "execution_count": 2,
     "metadata": {},
     "output_type": "execute_result"
    }
   ],
   "source": [
    "answer = denoising_model(z)\n",
    "answer.shape"
   ]
  }
 ],
 "metadata": {
  "kernelspec": {
   "display_name": "venv_local",
   "language": "python",
   "name": "python3"
  },
  "language_info": {
   "codemirror_mode": {
    "name": "ipython",
    "version": 3
   },
   "file_extension": ".py",
   "mimetype": "text/x-python",
   "name": "python",
   "nbconvert_exporter": "python",
   "pygments_lexer": "ipython3",
   "version": "3.12.7"
  }
 },
 "nbformat": 4,
 "nbformat_minor": 2
}
